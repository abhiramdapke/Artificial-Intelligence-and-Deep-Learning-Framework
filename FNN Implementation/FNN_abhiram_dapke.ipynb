{
 "cells": [
  {
   "cell_type": "code",
   "execution_count": 70,
   "metadata": {},
   "outputs": [],
   "source": [
    "import numpy as np\n",
    "import matplotlib.pyplot as plt\n",
    "import h5py\n",
    "import scipy\n",
    "from PIL import Image\n",
    "from scipy import ndimage\n",
    "import glob\n",
    "from sklearn.model_selection import train_test_split\n",
    "from testCases_v2 import *\n",
    "\n",
    "%matplotlib inline"
   ]
  },
  {
   "cell_type": "markdown",
   "metadata": {},
   "source": [
    "### Load Car Dataset"
   ]
  },
  {
   "cell_type": "code",
   "execution_count": 71,
   "metadata": {},
   "outputs": [],
   "source": [
    "\n",
    "# car dataset\n",
    "def load_dataset(database_path):\n",
    "    # open dataset \n",
    "    dataset_db = h5py.File(database_path, \"r\")\n",
    "    \n",
    "    \n",
    "    datasets = {}\n",
    "    for dataset in [\"train\", \"dev\", \"test\"]:\n",
    "        \n",
    "        # load the train set feautres (picuture)\n",
    "        datasets[dataset] = {'X' : np.array(dataset_db[dataset + \"_img\"][:]),  # dataset features\n",
    "                              'Y' : np.array(dataset_db[dataset + \"_labels\"][:]) # dataset labels\n",
    "                           }\n",
    "    #load data\n",
    "    X_train = np.array(datasets['train']['X'])\n",
    "    X_test = np.array(datasets['test']['X'])\n",
    "    y_train = np.array(datasets['train']['Y'])\n",
    "    y_test =np.array(datasets['test']['Y'])\n",
    "    X_dev = np.array(datasets['dev']['X'])\n",
    "    y_dev = np.array(datasets['dev']['Y'])\n",
    "    \n",
    "    return X_train, X_test, y_train, y_test, X_dev, y_dev\n",
    "\n",
    "def load_data(database_path):\n",
    "    # open dataset \n",
    "    dataset = h5py.File(database_path, \"r\")\n",
    "    \n",
    "    \n",
    "        \n",
    "        # load the train set feautres (picuture)\n",
    "        \n",
    "    X_train = np.array(dataset['train_img'] [:])\n",
    "    \n",
    "    X_test = np.array(dataset['test_img'][:])\n",
    "    y_train = np.array(dataset['train_labels'][:])\n",
    "    y_test =np.array(dataset['test_labels'][:])\n",
    "    X_dev = np.array(dataset['dev_img'][:])\n",
    "    y_dev = np.array(dataset['dev_labels'][:])\n",
    "    return X_train, X_test, y_train, y_test, X_dev, y_dev        \n",
    "\n"
   ]
  },
  {
   "cell_type": "code",
   "execution_count": 72,
   "metadata": {},
   "outputs": [],
   "source": [
    "num_pix = 64\n",
    "#Car dataset\n",
    "X_train, X_test, y_train, y_test, X_dev, y_dev= load_data(\"car_dataset.hdf5\")\n",
    "\n",
    "#X_train, X_test, y_train, y_test, X_dev, y_dev= load_dataset(\"car_dataset.hdf5\")\n",
    "# load the train_set_x_orig, test_set_x_orig, train_set_y, test_set_y\n",
    "\n",
    "pass"
   ]
  },
  {
   "cell_type": "code",
   "execution_count": 73,
   "metadata": {},
   "outputs": [
    {
     "name": "stdout",
     "output_type": "stream",
     "text": [
      "Number of training examples: 517\n",
      "Number of testing examples: 173\n",
      "Height/ Width of each image: 64\n",
      "train_set_x shape: (517, 64, 64, 3)\n",
      "train_set_y shape: (517,)\n",
      "test_set_x shape: (173, 64, 64, 3)\n",
      "test_set_y shape: (173,)\n",
      "dev_set_x shape: (172, 64, 64, 3)\n",
      "dev_set_y shape: (172,)\n"
     ]
    }
   ],
   "source": [
    "print(\"Number of training examples: \" + str(len(X_train)))\n",
    "\n",
    "print(\"Number of testing examples: \" + str(len(X_test)))\n",
    "\n",
    "print(\"Height/ Width of each image: \" + str(num_pix))\n",
    "\n",
    "print(\"train_set_x shape: \"+ str(X_train.shape))\n",
    "\n",
    "print(\"train_set_y shape: \"+ str(y_train.shape))\n",
    "\n",
    "print(\"test_set_x shape: \"+ str(X_test.shape))\n",
    "\n",
    "print(\"test_set_y shape: \"+ str(y_test.shape))\n",
    "\n",
    "\n",
    "print(\"dev_set_x shape: \"+ str(X_dev.shape))\n",
    "\n",
    "print(\"dev_set_y shape: \"+ str(y_dev.shape))"
   ]
  },
  {
   "cell_type": "code",
   "execution_count": 74,
   "metadata": {},
   "outputs": [
    {
     "name": "stdout",
     "output_type": "stream",
     "text": [
      "train_set_of_y shape: (1, 517)\n",
      "test_set_of_y shape: (1, 173)\n",
      "dev_set_of_y shape: (1, 172)\n"
     ]
    }
   ],
   "source": [
    "train_set_of_y= y_train.reshape(y_train.shape[0], -1).T\n",
    "test_set_of_y=y_test.reshape(y_test.shape[0], -1).T\n",
    "# your code here <end>\n",
    "\n",
    "\n",
    "dev_set_of_y= y_dev.reshape(y_dev.shape[0], -1).T\n",
    "\n",
    "\n",
    "#train_set_y1= y_train1.reshape(y_train1.shape[0], -1).T\n",
    "#test_set_y1=y_test1.reshape(y_test1.shape[0], -1).T\n",
    "\n",
    "print (\"train_set_of_y shape: \" + str(train_set_of_y.shape))\n",
    "print (\"test_set_of_y shape: \" + str(test_set_of_y.shape))\n",
    "\n",
    "print (\"dev_set_of_y shape: \" + str(dev_set_of_y.shape))"
   ]
  },
  {
   "cell_type": "code",
   "execution_count": 75,
   "metadata": {},
   "outputs": [
    {
     "name": "stdout",
     "output_type": "stream",
     "text": [
      "train_set_x_flatten (shape):(12288, 517)\n",
      "test_set_x_flatten (shape): (12288, 173)\n",
      "dev_set_x_flatten (shape): (12288, 172)\n"
     ]
    }
   ],
   "source": [
    "train_set_of_x_flatten =X_train.reshape(X_train.shape[0], -1).T\n",
    "\n",
    "test_set_of_x_flatten=X_test.reshape(X_test.shape[0], -1).T\n",
    "\n",
    "dev_set_of_x_flatten=X_dev.flatten().reshape(X_dev.shape[0], -1).T\n",
    "\n",
    "print(\"train_set_x_flatten (shape):\"+ str(train_set_of_x_flatten.shape))\n",
    "\n",
    "print(\"test_set_x_flatten (shape): \"+ str(test_set_of_x_flatten.shape))\n",
    "\n",
    "print(\"dev_set_x_flatten (shape): \"+ str(dev_set_of_x_flatten.shape))\n"
   ]
  },
  {
   "cell_type": "code",
   "execution_count": 76,
   "metadata": {},
   "outputs": [],
   "source": [
    "std_X_train= train_set_of_x_flatten/255\n",
    "std_X_test= test_set_of_x_flatten/255\n",
    "std_X_dev= dev_set_of_x_flatten/255\n"
   ]
  },
  {
   "cell_type": "markdown",
   "metadata": {},
   "source": [
    "### Logistic Regression"
   ]
  },
  {
   "cell_type": "code",
   "execution_count": 77,
   "metadata": {},
   "outputs": [],
   "source": [
    "def sigmoid(z):\n",
    "    sig= 1 / (1 + np.exp(-z))\n",
    "    return sig"
   ]
  },
  {
   "cell_type": "code",
   "execution_count": 78,
   "metadata": {},
   "outputs": [],
   "source": [
    "def initialize_with_zeros(dim):\n",
    "    w= np.zeros((dim,1))\n",
    "    b= 0.0\n",
    "    \n",
    "    assert(w.shape == (dim, 1))\n",
    "    assert(isinstance(b, float) or isinstance(b, int))\n",
    "    return w, b"
   ]
  },
  {
   "cell_type": "code",
   "execution_count": 79,
   "metadata": {},
   "outputs": [],
   "source": [
    "def forward_propagate(w, b,X, Y):\n",
    "    m= X.shape[1]\n",
    "    \n",
    "    Z=np.dot(w.T, X) + b\n",
    "    \n",
    "    A= sigmoid(Z)\n",
    "    \n",
    "    #cost function\n",
    "    cost= (-1/m) * np.sum(Y * np.log(A) + (1 - Y) * np.log(1 - A))\n",
    "    \n",
    "    return A, cost\n"
   ]
  },
  {
   "cell_type": "code",
   "execution_count": 80,
   "metadata": {},
   "outputs": [],
   "source": [
    "def backward_prop(w, b, X, Y):\n",
    "    \n",
    "    Z=np.dot(w.T, X) + b\n",
    "    A= sigmoid(Z)\n",
    "    m= X.shape[1]\n",
    "    A, cost = forward_propagate(w,b,X,Y)\n",
    "    dz= A - Y\n",
    "    dw= (1/m) * np.dot(X, dz.T)\n",
    "    db= (1/m) * np.sum(dz)\n",
    "    \n",
    "    assert(dw.shape == w.shape)\n",
    "    assert(db.dtype == float)\n",
    "    cost = np.squeeze(cost)\n",
    "    assert(cost.shape == ())\n",
    "    \n",
    "    grads= {\"dw\": dw,\n",
    "           \"db\": db}\n",
    "    \n",
    "    return grads, cost"
   ]
  },
  {
   "cell_type": "code",
   "execution_count": 81,
   "metadata": {},
   "outputs": [],
   "source": [
    "def optimize(w, b, X, Y, num_iterations, learning_rate, print_cost= False):\n",
    "    \n",
    "    costs= []\n",
    "    for i in range(num_iterations):\n",
    "        grads, cost= backward_prop(w, b, X, Y)\n",
    "        dw= grads['dw']\n",
    "        db= grads['db']\n",
    "    \n",
    "        w= w- learning_rate * dw\n",
    "        b= b- learning_rate * db\n",
    "    \n",
    "        if i % 100 == 0:\n",
    "            costs.append(cost)\n",
    "        \n",
    "    params = {\"w\": w,\n",
    "              \"b\": b}\n",
    "    \n",
    "    grads = {\"dw\": dw,\n",
    "             \"db\": db}\n",
    "    \n",
    "    \n",
    "    return params, grads, costs\n",
    "    "
   ]
  },
  {
   "cell_type": "code",
   "execution_count": 82,
   "metadata": {},
   "outputs": [],
   "source": [
    "def predict(w, b, X):\n",
    "    \n",
    "    m = X.shape[1]\n",
    "    Y_prediction = np.zeros((1,m))\n",
    "    w = w.reshape(X.shape[0], 1)\n",
    "    \n",
    "    # Compute vector \"A\" predicting the probabilities of a cat being present in the picture\n",
    "    Z = np.dot(w.T, X) + b\n",
    "    \n",
    "    A = sigmoid(Z)\n",
    "   \n",
    "    Y_prediction = np.around(A) \n",
    "    #for i in range(A.shape[1]):\n",
    "        \n",
    "        # Convert probabilities A[0,i] to actual predictions p[0,i]\n",
    "     #   Y_prediction = np.around(A[0, i])\n",
    "        \n",
    "    \n",
    "    assert(Y_prediction.shape == (1, m))\n",
    "    \n",
    "    return Y_prediction\n",
    "    "
   ]
  },
  {
   "cell_type": "code",
   "execution_count": 83,
   "metadata": {},
   "outputs": [],
   "source": [
    "def model(X_train, Y_train, X_test, Y_test, num_iterations, learning_rate, print_cost = True):\n",
    "    \n",
    "    n= X_train.shape[0]\n",
    "    w, b = initialize_with_zeros(dim= n)\n",
    "\n",
    "    # Gradient descent (≈ 1 line of code)\n",
    "    parameters, grads, costs = optimize(w, b, X_train, Y_train, num_iterations, learning_rate, print_cost= True)\n",
    "    \n",
    "    print(\"Costs: \")\n",
    "    print(*costs, sep='\\n')\n",
    "    # Retrieve parameters w and b from dictionary \"parameters\"\n",
    "    w = parameters['w']\n",
    "    b = parameters['b']\n",
    "    \n",
    "    # Predict test/train set examples (≈ 2 lines of code)\n",
    "    Y_prediction_test = predict(w, b, X_test)\n",
    "    Y_prediction_train = predict(w, b, X_train)\n",
    "\n",
    "    \n",
    "    # Print train/test Errors\n",
    "    print(\"train accuracy: {} %\".format(100 - np.mean(np.abs(Y_prediction_train - Y_train)) * 100))\n",
    "    print(\"test accuracy: {} %\".format(100 - np.mean(np.abs(Y_prediction_test - Y_test)) * 100))\n",
    "\n",
    "    \n",
    "    d = {\"costs\": costs,\n",
    "         \"Y_prediction_test\": Y_prediction_test, \n",
    "         \"Y_prediction_train\" : Y_prediction_train, \n",
    "         \"w\" : w, \n",
    "         \"b\" : b,\n",
    "         \"learning_rate\" : learning_rate,\n",
    "         \"num_iterations\": num_iterations}\n",
    "    \n",
    "    return d\n"
   ]
  },
  {
   "cell_type": "markdown",
   "metadata": {},
   "source": [
    "### Results for Logistic Regression"
   ]
  },
  {
   "cell_type": "code",
   "execution_count": 84,
   "metadata": {},
   "outputs": [
    {
     "name": "stdout",
     "output_type": "stream",
     "text": [
      "Car dataset\n",
      "Costs: \n",
      "0.6931471805599453\n",
      "0.5485087630796787\n",
      "0.49629693318454876\n",
      "0.4595362315493049\n",
      "0.43224438707580903\n",
      "0.41106581283396\n",
      "0.394034121790612\n",
      "0.3799397768476531\n",
      "0.3680040700183103\n",
      "0.35770483853842067\n",
      "0.34867924252155647\n",
      "0.3406672108354305\n",
      "0.33347723988088523\n",
      "0.3269649672995875\n",
      "0.321019315074798\n",
      "0.31555326781922244\n",
      "0.31049757565122726\n",
      "0.3057963531574119\n",
      "0.30140393837520163\n",
      "0.29728260816060365\n",
      "0.29340088768621786\n",
      "0.2897322799413797\n",
      "0.28625429729069635\n",
      "0.28294771372033956\n",
      "0.2797959806718442\n",
      "0.27678476575992444\n",
      "0.2739015849340066\n",
      "0.27113550650077195\n",
      "0.2684769109864578\n",
      "0.26591729480734655\n",
      "0.26344910861523213\n",
      "0.2610656233150983\n",
      "0.25876081833554365\n",
      "0.2565292879212972\n",
      "0.2543661621184194\n",
      "0.25226703981220006\n",
      "0.2502279317096041\n",
      "0.24824521157165866\n",
      "0.24631557432512086\n",
      "0.24443599993831286\n",
      "0.2426037221489094\n",
      "0.24081620129358522\n",
      "0.23907110061969672\n",
      "0.2373662655644463\n",
      "0.23569970557248202\n",
      "0.23406957809268208\n",
      "0.2324741744521137\n",
      "0.23091190735231043\n",
      "0.22938129977201657\n",
      "0.2278809750929475\n",
      "train accuracy: 92.06963249516441 %\n",
      "test accuracy: 87.28323699421965 %\n",
      "\n"
     ]
    }
   ],
   "source": [
    "print(\"Car dataset\")\n",
    "d= model(std_X_train, train_set_of_y, std_X_test, test_set_of_y, num_iterations= 5000, learning_rate= 0.0005, print_cost= True)\n",
    "print(\"\")"
   ]
  },
  {
   "cell_type": "code",
   "execution_count": 85,
   "metadata": {
    "scrolled": true
   },
   "outputs": [
    {
     "name": "stdout",
     "output_type": "stream",
     "text": [
      "Car dataset\n"
     ]
    },
    {
     "data": {
      "image/png": "[encoded data removed]",
      "text/plain": [
       "<Figure size 432x288 with 1 Axes>"
      ]
     },
     "metadata": {
      "needs_background": "light"
     },
     "output_type": "display_data"
    }
   ],
   "source": [
    "print(\"Car dataset\")\n",
    "costs = np.squeeze(d['costs'])\n",
    "plt.plot(costs)\n",
    "plt.ylabel('cost')\n",
    "plt.xlabel('iterations (per hundreds)')\n",
    "plt.title(\"Learning rate =\" + str(d[\"learning_rate\"]))\n",
    "plt.show()"
   ]
  },
  {
   "cell_type": "code",
   "execution_count": 86,
   "metadata": {},
   "outputs": [
    {
     "name": "stdout",
     "output_type": "stream",
     "text": [
      "Car dataset\n",
      "Costs: \n",
      "0.6931471805599453\n",
      "0.34832503598373044\n",
      "0.29323468328455565\n",
      "0.2633464913452111\n",
      "0.24253059943103009\n",
      "0.22635286068300065\n",
      "0.21301379372361937\n",
      "0.20161395404816623\n",
      "0.1916401352231467\n",
      "0.1827710242724725\n",
      "0.1747909067232438\n",
      "0.1675467811287168\n",
      "0.16092519587059356\n",
      "0.15483890800007094\n",
      "0.14921879443083969\n",
      "0.14400873568826805\n",
      "0.13916226075501759\n",
      "0.13464027463236447\n",
      "0.13040947191888988\n",
      "0.1264411962537478\n",
      "train accuracy: 97.48549323017409 %\n",
      "test accuracy: 89.59537572254335 %\n",
      "\n"
     ]
    }
   ],
   "source": [
    "print(\"Car dataset\")\n",
    "d= model(std_X_train, train_set_of_y, std_X_test, test_set_of_y, num_iterations= 2000, learning_rate= 0.005, print_cost= True)\n",
    "print(\"\")\n"
   ]
  },
  {
   "cell_type": "code",
   "execution_count": 41,
   "metadata": {},
   "outputs": [
    {
     "name": "stdout",
     "output_type": "stream",
     "text": [
      "Car dataset\n"
     ]
    },
    {
     "data": {
      "image/png": "[encoded data removed]",
      "text/plain": [
       "<Figure size 432x288 with 1 Axes>"
      ]
     },
     "metadata": {
      "needs_background": "light"
     },
     "output_type": "display_data"
    }
   ],
   "source": [
    "print(\"Car dataset\")\n",
    "costs = np.squeeze(d['costs'])\n",
    "plt.plot(costs)\n",
    "plt.ylabel('cost')\n",
    "plt.xlabel('iterations (per hundreds)')\n",
    "plt.title(\"Learning rate =\" + str(d[\"learning_rate\"]))\n",
    "plt.show()"
   ]
  },
  {
   "cell_type": "markdown",
   "metadata": {},
   "source": [
    "### DNN"
   ]
  },
  {
   "cell_type": "code",
   "execution_count": 42,
   "metadata": {},
   "outputs": [],
   "source": [
    "# GRADED FUNCTION: initialize_parameters_deep\n",
    "\n",
    "def initialize_parameters_deep(layer_dims):\n",
    "    \"\"\"\n",
    "    Arguments:\n",
    "    layer_dims -- python array (list) containing the dimensions of each layer in our network\n",
    "    \n",
    "    Returns:\n",
    "    parameters -- python dictionary containing your parameters \"W1\", \"b1\", ..., \"WL\", \"bL\":\n",
    "                    Wl -- weight matrix of shape (layer_dims[l], layer_dims[l-1])\n",
    "                    bl -- bias vector of shape (layer_dims[l], 1)\n",
    "    \"\"\"\n",
    "    \n",
    "    np.random.seed(1)\n",
    "    parameters = {}\n",
    "    L = len(layer_dims)            # number of layers in the network\n",
    "\n",
    "    for l in range(1, L):\n",
    "        parameters['W' + str(l)] = np.random.randn(layer_dims[l],layer_dims[l-1]) / np.sqrt(layer_dims[l-1])\n",
    "        parameters['b' + str(l)] = np.zeros((layer_dims[l], 1))\n",
    "        \n",
    "        assert(parameters['W' + str(l)].shape == (layer_dims[l], layer_dims[l-1]))\n",
    "        assert(parameters['b' + str(l)].shape == (layer_dims[l], 1))\n",
    "\n",
    "        \n",
    "    return parameters\n"
   ]
  },
  {
   "cell_type": "code",
   "execution_count": 43,
   "metadata": {},
   "outputs": [
    {
     "name": "stdout",
     "output_type": "stream",
     "text": [
      "W1 = [[ 0.72642933 -0.27358579 -0.23620559 -0.47984616  0.38702206]\n",
      " [-1.0292794   0.78030354 -0.34042208  0.14267862 -0.11152182]\n",
      " [ 0.65387455 -0.92132293 -0.14418936 -0.17175433  0.50703711]\n",
      " [-0.49188633 -0.07711224 -0.39259022  0.01887856  0.26064289]]\n",
      "b1 = [[0.]\n",
      " [0.]\n",
      " [0.]\n",
      " [0.]]\n",
      "W2 = [[-0.55030959  0.57236185  0.45079536  0.25124717]\n",
      " [ 0.45042797 -0.34186393 -0.06144511 -0.46788472]\n",
      " [-0.13394404  0.26517773 -0.34583038 -0.19837676]]\n",
      "b2 = [[0.]\n",
      " [0.]\n",
      " [0.]]\n"
     ]
    }
   ],
   "source": [
    "#np.random.seed(3)\n",
    "parameters = initialize_parameters_deep([5,4,3])\n",
    "print(\"W1 = \" + str(parameters[\"W1\"]))\n",
    "print(\"b1 = \" + str(parameters[\"b1\"]))\n",
    "print(\"W2 = \" + str(parameters[\"W2\"]))\n",
    "print(\"b2 = \" + str(parameters[\"b2\"]))"
   ]
  },
  {
   "cell_type": "code",
   "execution_count": 44,
   "metadata": {},
   "outputs": [],
   "source": [
    "# GRADED FUNCTION: L_model_forward\n",
    "\n",
    "# import the linear_activation_forward\n",
    "# we added this from previous assignment to the utility file.\n",
    "from dnn_utils_v2 import linear_activation_forward\n",
    "\n",
    "def L_model_forward(X, parameters):\n",
    "    \"\"\"\n",
    "    Implement forward propagation for the [LINEAR->RELU]*(L-1)->LINEAR->SIGMOID computation\n",
    "    \n",
    "    Arguments:\n",
    "    X -- data, numpy array of shape (input size, number of examples)\n",
    "    parameters -- output of initialize_parameters_deep()\n",
    "    \n",
    "    Returns:\n",
    "    AL -- last post-activation value\n",
    "    caches -- list of caches containing:\n",
    "                every cache of linear_relu_forward() (there are L-1 of them, indexed from 0 to L-2)\n",
    "                the cache of linear_sigmoid_forward() (there is one, indexed L-1)\n",
    "    \"\"\"\n",
    "\n",
    "    caches = []\n",
    "    A = X\n",
    "    L = len(parameters) // 2                  # number of layers in the neural network\n",
    "    \n",
    "    # Implement [LINEAR -> RELU]*(L-1). Add \"cache\" to the \"caches\" list.\n",
    "    \n",
    "    if L == 2:\n",
    "        l = 1\n",
    "        A_prev = A\n",
    "        A, cache = linear_activation_forward(A_prev,parameters['W'+ str(l)],parameters['b'+ str(l)],\"relu\")\n",
    "        caches.append(cache)\n",
    "\n",
    "    else:\n",
    "    # Use a for loop to replicate [LINEAR->RELU] (L-1) times\n",
    "        for l in range(1, L):\n",
    "        # A_prev represets the activation output of the previous layer \n",
    "            A_prev = A\n",
    "        \n",
    "        # Use the linear_activation_forward you had previously written (we import this function)\n",
    "            A, cache = linear_activation_forward(A_prev,parameters['W'+ str(l)],parameters['b'+ str(l)],\"relu\")\n",
    "\n",
    "        # keep track of the cache \n",
    "        # Add \"cache\" to the \"caches\" list\n",
    "            caches.append(cache)\n",
    "    \n",
    "    # This is the last layer L which uses sigmoid activation function\n",
    "    # Implement LINEAR -> SIGMOID. .\n",
    "    AL, cache = linear_activation_forward(A,parameters['W'+str(L)],parameters['b'+ str(L)],\"sigmoid\")\n",
    "    # Add \"cache\" to the \"caches\" list\n",
    "    caches.append(cache)\n",
    "    assert(AL.shape == (1,X.shape[1]))\n",
    "    return AL, caches"
   ]
  },
  {
   "cell_type": "code",
   "execution_count": 45,
   "metadata": {},
   "outputs": [],
   "source": [
    "def initialize_parameters_deep(layer_dims):\n",
    "    \"\"\"\n",
    "    Arguments:\n",
    "    layer_dims -- python array (list) containing the dimensions of each layer in our network\n",
    "    \n",
    "    Returns:\n",
    "    parameters -- python dictionary containing your parameters \"W1\", \"b1\", ..., \"WL\", \"bL\":\n",
    "                    Wl -- weight matrix of shape (layer_dims[l], layer_dims[l-1])\n",
    "                    bl -- bias vector of shape (layer_dims[l], 1)\n",
    "    \"\"\"\n",
    "    \n",
    "    np.random.seed(1)\n",
    "    parameters = {}\n",
    "    L = len(layer_dims)            # number of layers in the network\n",
    "\n",
    "    for l in range(1, L):\n",
    "        parameters['W' + str(l)] = np.random.randn(layer_dims[l],layer_dims[l-1]) / np.sqrt(layer_dims[l-1])\n",
    "        parameters['b' + str(l)] = np.zeros((layer_dims[l], 1))\n",
    "        \n",
    "        assert(parameters['W' + str(l)].shape == (layer_dims[l], layer_dims[l-1]))\n",
    "        assert(parameters['b' + str(l)].shape == (layer_dims[l], 1))\n",
    "\n",
    "        \n",
    "    return parameters"
   ]
  },
  {
   "cell_type": "code",
   "execution_count": 46,
   "metadata": {},
   "outputs": [
    {
     "name": "stdout",
     "output_type": "stream",
     "text": [
      "W1 = [[ 0.72642933 -0.27358579 -0.23620559 -0.47984616  0.38702206]\n",
      " [-1.0292794   0.78030354 -0.34042208  0.14267862 -0.11152182]\n",
      " [ 0.65387455 -0.92132293 -0.14418936 -0.17175433  0.50703711]\n",
      " [-0.49188633 -0.07711224 -0.39259022  0.01887856  0.26064289]]\n",
      "b1 = [[0.]\n",
      " [0.]\n",
      " [0.]\n",
      " [0.]]\n",
      "W2 = [[-0.55030959  0.57236185  0.45079536  0.25124717]\n",
      " [ 0.45042797 -0.34186393 -0.06144511 -0.46788472]\n",
      " [-0.13394404  0.26517773 -0.34583038 -0.19837676]]\n",
      "b2 = [[0.]\n",
      " [0.]\n",
      " [0.]]\n"
     ]
    }
   ],
   "source": [
    "#np.random.seed(3)\n",
    "parameters = initialize_parameters_deep([5,4,3])\n",
    "print(\"W1 = \" + str(parameters[\"W1\"]))\n",
    "print(\"b1 = \" + str(parameters[\"b1\"]))\n",
    "print(\"W2 = \" + str(parameters[\"W2\"]))\n",
    "print(\"b2 = \" + str(parameters[\"b2\"]))"
   ]
  },
  {
   "cell_type": "code",
   "execution_count": 47,
   "metadata": {},
   "outputs": [],
   "source": [
    "# GRADED FUNCTION: L_model_forward\n",
    "\n",
    "# import the linear_activation_forward\n",
    "# we added this from previous assignment to the utility file.\n",
    "from dnn_utils_v2 import linear_activation_forward\n",
    "\n",
    "def L_model_forward(X, parameters):\n",
    "    \"\"\"\n",
    "    Implement forward propagation for the [LINEAR->RELU]*(L-1)->LINEAR->SIGMOID computation\n",
    "    \n",
    "    Arguments:\n",
    "    X -- data, numpy array of shape (input size, number of examples)\n",
    "    parameters -- output of initialize_parameters_deep()\n",
    "    \n",
    "    Returns:\n",
    "    AL -- last post-activation value\n",
    "    caches -- list of caches containing:\n",
    "                every cache of linear_relu_forward() (there are L-1 of them, indexed from 0 to L-2)\n",
    "                the cache of linear_sigmoid_forward() (there is one, indexed L-1)\n",
    "    \"\"\"\n",
    "\n",
    "    caches = []\n",
    "    A = X\n",
    "    L = len(parameters) // 2                  # number of layers in the neural network\n",
    "    \n",
    "    # Implement [LINEAR -> RELU]*(L-1). Add \"cache\" to the \"caches\" list.\n",
    "    \n",
    "    if L == 2:\n",
    "        l = 1\n",
    "        A_prev = A\n",
    "        A, cache = linear_activation_forward(A_prev,parameters['W'+ str(l)],parameters['b'+ str(l)],\"relu\")\n",
    "        caches.append(cache)\n",
    "\n",
    "    else:\n",
    "    # Use a for loop to replicate [LINEAR->RELU] (L-1) times\n",
    "        for l in range(1, L):\n",
    "        # A_prev represets the activation output of the previous layer \n",
    "            A_prev = A\n",
    "        \n",
    "        # Use the linear_activation_forward you had previously written (we import this function)\n",
    "            A, cache = linear_activation_forward(A_prev,parameters['W'+ str(l)],parameters['b'+ str(l)],\"relu\")\n",
    "\n",
    "        # keep track of the cache \n",
    "        # Add \"cache\" to the \"caches\" list\n",
    "            caches.append(cache)\n",
    "    \n",
    "    # This is the last layer L which uses sigmoid activation function\n",
    "    # Implement LINEAR -> SIGMOID. .\n",
    "    AL, cache = linear_activation_forward(A,parameters['W'+str(L)],parameters['b'+ str(L)],\"sigmoid\")\n",
    "    # Add \"cache\" to the \"caches\" list\n",
    "    caches.append(cache)\n",
    "    assert(AL.shape == (1,X.shape[1]))\n",
    "    return AL, caches"
   ]
  },
  {
   "cell_type": "code",
   "execution_count": 48,
   "metadata": {
    "scrolled": true
   },
   "outputs": [
    {
     "name": "stdout",
     "output_type": "stream",
     "text": [
      "AL = [[0.17007265 0.2524272 ]]\n",
      "Length of caches list = 2\n"
     ]
    }
   ],
   "source": [
    "X, parameters = L_model_forward_test_case()\n",
    "AL, caches = L_model_forward(X, parameters)\n",
    "print(\"AL = \" + str(AL))\n",
    "print(\"Length of caches list = \" + str(len(caches)))"
   ]
  },
  {
   "cell_type": "code",
   "execution_count": 49,
   "metadata": {},
   "outputs": [],
   "source": [
    "from dnn_utils_v2 import compute_cost"
   ]
  },
  {
   "cell_type": "code",
   "execution_count": 50,
   "metadata": {},
   "outputs": [
    {
     "name": "stdout",
     "output_type": "stream",
     "text": [
      "cost = 0.41493159961539694\n"
     ]
    }
   ],
   "source": [
    "Y, AL = compute_cost_test_case()\n",
    "print(\"cost = \" + str(compute_cost(AL, Y)))"
   ]
  },
  {
   "cell_type": "code",
   "execution_count": 51,
   "metadata": {},
   "outputs": [],
   "source": [
    "# GRADED FUNCTION: L_model_backward\n",
    "\n",
    "from dnn_utils_v2 import linear_activation_backward\n",
    "\n",
    "def L_model_backward(AL, Y, caches):\n",
    "    \"\"\"\n",
    "    Implement the backward propagation for the [LINEAR->RELU] * (L-1) -> LINEAR -> SIGMOID group\n",
    "    \n",
    "    Arguments:\n",
    "    AL -- probability vector, output of the forward propagation (L_model_forward())\n",
    "    Y -- true \"label\" vector (containing 0 if non-cat, 1 if cat)\n",
    "    caches -- list of caches containing:\n",
    "                every cache of linear_activation_forward() with \"relu\" (there are (L-1) or them, indexes from 0 to L-2)\n",
    "                the cache of linear_activation_forward() with \"sigmoid\" (there is one, index L-1)\n",
    "    \n",
    "    Returns:\n",
    "    grads -- A dictionary with the gradients\n",
    "             grads[\"dA\" + str(l)] = ... \n",
    "             grads[\"dW\" + str(l)] = ...\n",
    "             grads[\"db\" + str(l)] = ... \n",
    "    \"\"\"\n",
    "    grads = {}\n",
    "    L = len(caches) # the number of layers\n",
    "    m = AL.shape[1]\n",
    "    Y = Y.reshape(AL.shape) # after this line, Y is the same shape as AL\n",
    "    \n",
    "    # Initializing the backpropagation\n",
    "    dAL = - (np.divide(Y, AL) - np.divide(1 - Y, 1 - AL))\n",
    "    \n",
    "    # Lth layer (SIGMOID -> LINEAR) gradients. Inputs: \"AL, Y, caches\". Outputs: \"grads[\"dAL\"], grads[\"dWL\"], grads[\"dbL\"]\n",
    "    current_cache = caches[L-1]\n",
    "    # use linear_activation_backward to get the derivatives\n",
    "    grads[\"dA\" + str(L)], grads[\"dW\" + str(L)], grads[\"db\" + str(L)] = linear_activation_backward(dAL,current_cache,\"sigmoid\")\n",
    "    \n",
    "    for l in reversed(range(L-1)):\n",
    "        # lth layer: (RELU -> LINEAR) gradients.\n",
    "        current_cache = caches[l]\n",
    "        # use linear_activation_backward to get the derivatives\n",
    "        dA_prev_temp, dW_temp, db_temp = linear_activation_backward(grads[\"dA\" + str(l + 2)],current_cache,\"relu\")\n",
    "        # save the derivatives into a grads dictionary\n",
    "        grads[\"dA\" + str(l + 1)] = dA_prev_temp\n",
    "        grads[\"dW\" + str(l + 1)] = dW_temp\n",
    "        grads[\"db\" + str(l + 1)] =  db_temp\n",
    "\n",
    "    return grads"
   ]
  },
  {
   "cell_type": "code",
   "execution_count": 52,
   "metadata": {},
   "outputs": [
    {
     "name": "stdout",
     "output_type": "stream",
     "text": [
      "dW1 = [[0.41010002 0.07807203 0.13798444 0.10502167]\n",
      " [0.         0.         0.         0.        ]\n",
      " [0.05283652 0.01005865 0.01777766 0.0135308 ]]\n",
      "db1 = [[-0.22007063]\n",
      " [ 0.        ]\n",
      " [-0.02835349]]\n",
      "dA1 = [[ 0.          0.52257901]\n",
      " [ 0.         -0.3269206 ]\n",
      " [ 0.         -0.32070404]\n",
      " [ 0.         -0.74079187]]\n"
     ]
    }
   ],
   "source": [
    "AL, Y_assess, caches = L_model_backward_test_case()\n",
    "grads = L_model_backward(AL, Y_assess, caches)\n",
    "print (\"dW1 = \"+ str(grads[\"dW1\"]))\n",
    "print (\"db1 = \"+ str(grads[\"db1\"]))\n",
    "print (\"dA1 = \"+ str(grads[\"dA1\"]))"
   ]
  },
  {
   "cell_type": "code",
   "execution_count": 53,
   "metadata": {},
   "outputs": [],
   "source": [
    "from dnn_utils_v2 import update_parameters"
   ]
  },
  {
   "cell_type": "code",
   "execution_count": 54,
   "metadata": {},
   "outputs": [
    {
     "name": "stdout",
     "output_type": "stream",
     "text": [
      "W1 = [[-0.59562069 -0.09991781 -2.14584584  1.82662008]\n",
      " [-1.76569676 -0.80627147  0.51115557 -1.18258802]\n",
      " [-1.0535704  -0.86128581  0.68284052  2.20374577]]\n",
      "b1 = [[-0.04659241]\n",
      " [-1.28888275]\n",
      " [ 0.53405496]]\n",
      "W2 = [[-0.55569196  0.0354055   1.32964895]]\n",
      "b2 = [[-0.84610769]]\n"
     ]
    }
   ],
   "source": [
    "parameters, grads = update_parameters_test_case()\n",
    "parameters = update_parameters(parameters, grads, 0.1)\n",
    "\n",
    "print (\"W1 = \"+ str(parameters[\"W1\"]))\n",
    "print (\"b1 = \"+ str(parameters[\"b1\"]))\n",
    "print (\"W2 = \"+ str(parameters[\"W2\"]))\n",
    "print (\"b2 = \"+ str(parameters[\"b2\"]))"
   ]
  },
  {
   "cell_type": "code",
   "execution_count": 55,
   "metadata": {},
   "outputs": [],
   "source": [
    "# GRADED FUNCTION: L_layer_model\n",
    "\n",
    "\n",
    "def L_layer_model(X, Y, layer_dims, learning_rate = 0.0075, num_iterations = 3000, print_cost=False):#lr was 0.009\n",
    "    \"\"\"\n",
    "    Implements a L-layer neural network: [LINEAR->RELU]*(L-1)->LINEAR->SIGMOID.\n",
    "    \n",
    "    Arguments:\n",
    "    X -- data, numpy array of shape (number of examples, num_px * num_px * 3)\n",
    "    Y -- true \"label\" vector (containing 0 if cat, 1 if non-cat), of shape (1, number of examples)\n",
    "    layers_dims -- list containing the input size and each layer size, of length (number of layers + 1).\n",
    "    learning_rate -- learning rate of the gradient descent update rule\n",
    "    num_iterations -- number of iterations of the optimization loop\n",
    "    print_cost -- if True, it prints the cost every 100 steps\n",
    "    \n",
    "    Returns:\n",
    "    parameters -- parameters learnt by the model. They can then be used to predict.\n",
    "    \"\"\"\n",
    "\n",
    "    np.random.seed(1)\n",
    "    costs = []                         # keep track of cost\n",
    "    \n",
    "    # Parameters initialization.\n",
    "    parameters = initialize_parameters_deep(layer_dims)\n",
    "    \n",
    "    # Loop (gradient descent)\n",
    "    for i in range(0, num_iterations):\n",
    "\n",
    "        # Forward propagation: [LINEAR -> RELU]*(L-1) -> LINEAR -> SIGMOID.\n",
    "        AL, caches = L_model_forward(X, parameters)\n",
    "        \n",
    "        # Compute cost.\n",
    "        cost = compute_cost(AL, Y)\n",
    "        \n",
    "        # Backward propagation.\n",
    "        grads = L_model_backward(AL, Y, caches)\n",
    "        \n",
    "        # Update parameters.\n",
    "        parameters = update_parameters(parameters, grads, learning_rate)\n",
    "                \n",
    "        # Print the cost every 100 training example\n",
    "        if print_cost and i % 100 == 0:\n",
    "            print (\"Cost after iteration %i: %f\" %(i, cost))\n",
    "        if print_cost and i % 100 == 0:\n",
    "            costs.append(cost)\n",
    "            \n",
    "    # plot the cost\n",
    "    plt.plot(np.squeeze(costs))\n",
    "    plt.ylabel('cost')\n",
    "    plt.xlabel('iterations (per tens)')\n",
    "    plt.title(\"Learning rate =\" + str(learning_rate))\n",
    "    plt.show()\n",
    "    \n",
    "    return parameters"
   ]
  },
  {
   "cell_type": "markdown",
   "metadata": {},
   "source": [
    "### Results for Deep NN"
   ]
  },
  {
   "cell_type": "code",
   "execution_count": 57,
   "metadata": {},
   "outputs": [
    {
     "name": "stdout",
     "output_type": "stream",
     "text": [
      "Cost after iteration 0: 0.646541\n",
      "Cost after iteration 100: 0.416225\n",
      "Cost after iteration 200: 0.355888\n",
      "Cost after iteration 300: 0.332115\n",
      "Cost after iteration 400: 0.290015\n",
      "Cost after iteration 500: 0.283693\n",
      "Cost after iteration 600: 0.265475\n",
      "Cost after iteration 700: 0.269672\n",
      "Cost after iteration 800: 0.248073\n",
      "Cost after iteration 900: 0.224796\n",
      "Cost after iteration 1000: 0.200861\n",
      "Cost after iteration 1100: 0.162487\n",
      "Cost after iteration 1200: 0.147610\n",
      "Cost after iteration 1300: 0.134080\n",
      "Cost after iteration 1400: 0.128511\n",
      "Cost after iteration 1500: 0.114763\n",
      "Cost after iteration 1600: 0.108451\n",
      "Cost after iteration 1700: 0.102095\n",
      "Cost after iteration 1800: 0.095662\n",
      "Cost after iteration 1900: 0.090710\n",
      "Cost after iteration 2000: 0.085121\n",
      "Cost after iteration 2100: 0.080811\n",
      "Cost after iteration 2200: 0.076973\n",
      "Cost after iteration 2300: 0.073748\n",
      "Cost after iteration 2400: 0.071468\n"
     ]
    },
    {
     "data": {
      "image/png": "[encoded data removed]",
      "text/plain": [
       "<Figure size 432x288 with 1 Axes>"
      ]
     },
     "metadata": {
      "needs_background": "light"
     },
     "output_type": "display_data"
    }
   ],
   "source": [
    "layer_dims = [12288,20,7,5,1]\n",
    "model_parameters = L_layer_model(std_X_train, train_set_of_y, layer_dims, num_iterations = 2500, print_cost = True)"
   ]
  },
  {
   "cell_type": "code",
   "execution_count": 60,
   "metadata": {},
   "outputs": [],
   "source": [
    "def predict(X, parameters):\n",
    "    \"\"\"\n",
    "    This function is used to predict the results of a  L-layer neural network.\n",
    "    \n",
    "    Arguments:\n",
    "    X -- data set of examples you would like to label\n",
    "    parameters -- parameters of the trained model\n",
    "    \n",
    "    Returns:\n",
    "    p -- predictions for the given dataset X\n",
    "    \"\"\"\n",
    "    \n",
    "      \n",
    "    # Forward propagation\n",
    "    probas, caches = L_model_forward(X, parameters)\n",
    "\n",
    "    \n",
    "    # round the probabilities to get the class labels.\n",
    "    p = np.round(probas)\n",
    "        \n",
    "    return p"
   ]
  },
  {
   "cell_type": "code",
   "execution_count": 63,
   "metadata": {},
   "outputs": [
    {
     "name": "stdout",
     "output_type": "stream",
     "text": [
      "Train Accuracy: 0.9864603481624761\n",
      "Test Accuracy: 0.890173410404624\n"
     ]
    }
   ],
   "source": [
    "predictions_train = predict(std_X_train, model_parameters)\n",
    "m_train = train_set_of_y.shape[1]\n",
    "print(\"Train Accuracy: \"  + str(np.sum((predictions_train == train_set_of_y)/m_train)))\n",
    "m_test = test_set_of_y.shape[1]\n",
    "predictions_test = predict(std_X_test, model_parameters)\n",
    "print(\"Test Accuracy: \"  + str(np.sum((predictions_test == test_set_of_y)/m_test)))"
   ]
  },
  {
   "cell_type": "code",
   "execution_count": 66,
   "metadata": {},
   "outputs": [
    {
     "name": "stdout",
     "output_type": "stream",
     "text": [
      "Cost after iteration 0: 0.706606\n",
      "Cost after iteration 100: 0.376183\n",
      "Cost after iteration 200: 0.309636\n",
      "Cost after iteration 300: 0.266480\n",
      "Cost after iteration 400: 0.218903\n",
      "Cost after iteration 500: 0.206720\n",
      "Cost after iteration 600: 0.204804\n",
      "Cost after iteration 700: 0.111973\n",
      "Cost after iteration 800: 0.115337\n",
      "Cost after iteration 900: 0.074727\n",
      "Cost after iteration 1000: 0.059304\n",
      "Cost after iteration 1100: 0.046337\n",
      "Cost after iteration 1200: 0.037163\n",
      "Cost after iteration 1300: 0.030488\n",
      "Cost after iteration 1400: 0.025035\n",
      "Cost after iteration 1500: 0.021230\n",
      "Cost after iteration 1600: 0.018518\n",
      "Cost after iteration 1700: 0.016503\n",
      "Cost after iteration 1800: 0.014954\n",
      "Cost after iteration 1900: 0.013741\n",
      "Cost after iteration 2000: 0.012769\n",
      "Cost after iteration 2100: 0.011976\n",
      "Cost after iteration 2200: 0.011319\n",
      "Cost after iteration 2300: 0.010767\n",
      "Cost after iteration 2400: 0.010298\n"
     ]
    },
    {
     "data": {
      "image/png": "[encoded data removed]",
      "text/plain": [
       "<Figure size 432x288 with 1 Axes>"
      ]
     },
     "metadata": {
      "needs_background": "light"
     },
     "output_type": "display_data"
    }
   ],
   "source": [
    "layer_dims = [12288,40,7,5,1]\n",
    "model_parameters = L_layer_model(std_X_train, train_set_of_y, layer_dims, num_iterations = 2500, print_cost = True)"
   ]
  },
  {
   "cell_type": "code",
   "execution_count": 69,
   "metadata": {},
   "outputs": [
    {
     "name": "stdout",
     "output_type": "stream",
     "text": [
      "Train Accuracy: 0.9922630560928436\n",
      "Test Accuracy: 0.8959537572254332\n"
     ]
    }
   ],
   "source": [
    "predictions_train = predict(std_X_train, model_parameters)\n",
    "m_train = train_set_of_y.shape[1]\n",
    "print(\"Train Accuracy: \"  + str(np.sum((predictions_train == train_set_of_y)/m_train)))\n",
    "m_test = test_set_of_y.shape[1]\n",
    "predictions_test = predict(std_X_test, model_parameters)\n",
    "print(\"Test Accuracy: \"  + str(np.sum((predictions_test == test_set_of_y)/m_test)))"
   ]
  },
  {
   "cell_type": "code",
   "execution_count": null,
   "metadata": {},
   "outputs": [],
   "source": []
  }
 ],
 "metadata": {
  "kernelspec": {
   "display_name": "Python 3",
   "language": "python",
   "name": "python3"
  },
  "language_info": {
   "codemirror_mode": {
    "name": "ipython",
    "version": 3
   },
   "file_extension": ".py",
   "mimetype": "text/x-python",
   "name": "python",
   "nbconvert_exporter": "python",
   "pygments_lexer": "ipython3",
   "version": "3.7.1"
  }
 },
 "nbformat": 4,
 "nbformat_minor": 2
}
